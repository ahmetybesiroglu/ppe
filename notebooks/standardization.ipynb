{
 "cells": [
  {
   "cell_type": "code",
   "execution_count": 1,
   "metadata": {},
   "outputs": [
    {
     "name": "stdout",
     "output_type": "stream",
     "text": [
      "Total assets: 289\n",
      "Laptop assets: 243\n"
     ]
    }
   ],
   "source": [
    "import pandas as pd\n",
    "from pathlib import Path\n",
    "\n",
    "# Define file paths relative to the notebook's directory\n",
    "data_dir = Path('../data')  # Go up one level from 'notebooks' and into 'data'\n",
    "assets_file = data_dir / 'assets_data_cleaned.csv'\n",
    "netsuite_file = data_dir / 'netsuite_data_cleaned.csv'\n",
    "\n",
    "# Load the assets data\n",
    "assets_df = pd.read_csv(assets_file)\n",
    "\n",
    "# Filter for laptops\n",
    "laptop_assets = assets_df[assets_df['asset_type_name'] == 'Laptop']\n",
    "\n",
    "print(f\"Total assets: {len(assets_df)}\")\n",
    "print(f\"Laptop assets: {len(laptop_assets)}\")\n"
   ]
  },
  {
   "cell_type": "code",
   "execution_count": 2,
   "metadata": {},
   "outputs": [],
   "source": [
    "import pandas as pd\n",
    "from pathlib import Path\n",
    "\n",
    "# Define file paths relative to the notebook's directory\n",
    "data_dir = Path('../data')  # Go up one level from 'notebooks' and into 'data'\n",
    "assets_file = data_dir / 'assets_data_cleaned.csv'\n",
    "netsuite_file = data_dir / 'netsuite_data_cleaned.csv'\n",
    "\n",
    "# Load the assets data\n",
    "assets_df = pd.read_csv(assets_file)\n",
    "netsuite_df = pd.read_csv(netsuite_file)\n",
    "\n",
    "\n",
    "assets_df.info()\n",
    "netsuite_df.info()\n"
   ]
  },
  {
   "cell_type": "code",
   "execution_count": 3,
   "metadata": {},
   "outputs": [
    {
     "name": "stdout",
     "output_type": "stream",
     "text": [
      "Total purchases: 263\n",
      "Laptop purchases: 95\n"
     ]
    }
   ],
   "source": [
    "# Load the netsuite data\n",
    "netsuite_df = pd.read_csv(netsuite_file)\n",
    "\n",
    "# Filter for laptops\n",
    "laptop_purchases = netsuite_df[netsuite_df['asset_class'].str.contains('Laptop', case=False, na=False)]\n",
    "\n",
    "print(f\"Total purchases: {len(netsuite_df)}\")\n",
    "print(f\"Laptop purchases: {len(laptop_purchases)}\")"
   ]
  },
  {
   "cell_type": "code",
   "execution_count": 4,
   "metadata": {},
   "outputs": [
    {
     "name": "stdout",
     "output_type": "stream",
     "text": [
      "vendor_name\n",
      "Apple                     60\n",
      "Lenovo                    43\n",
      "Lakeshore IT Solutions    33\n",
      "Clutch Solutions          18\n",
      "Name: count, dtype: int64\n",
      "product_name\n",
      "MacBook Pro 13\"       73\n",
      "Dell Latitude 3520    68\n",
      "Lenovo IdeaPad 5      40\n",
      "MacBook Air           19\n",
      "MacBook Pro 16\"       17\n",
      "MacBook Pro 14\"       11\n",
      "Dell Latitude 5520     5\n",
      "Lenovo 15.6\"           4\n",
      "Dell XPS               3\n",
      "Dell Latitude 3550     1\n",
      "MacBook Pro 15\"        1\n",
      "Dell XPS 15 9500       1\n",
      "Name: count, dtype: int64\n"
     ]
    }
   ],
   "source": [
    "print(laptop_assets['vendor_name'].value_counts())\n",
    "print(laptop_assets['product_name'].value_counts())"
   ]
  },
  {
   "cell_type": "code",
   "execution_count": 10,
   "metadata": {},
   "outputs": [
    {
     "name": "stdout",
     "output_type": "stream",
     "text": [
      "vendor\n",
      "Apple                     38\n",
      "Clutch Solutions          37\n",
      "B&H Photo                 11\n",
      "Lakeshore IT Solutions     8\n",
      "Amazon                     1\n",
      "Name: count, dtype: int64\n",
      "item\n",
      "['MacBook Pro']               32\n",
      "['MacBook Pro 13\"']           24\n",
      "['MacBook Pro 16\"']           13\n",
      "['MacBook Pro 14\"']            7\n",
      "['Dell Latitude 3520 15\"']     6\n",
      "['MacBook']                    5\n",
      "['MacBook Air 15\"']            3\n",
      "['MacBook Air 13\"']            2\n",
      "['Dell Latitude 5520 15\"']     1\n",
      "['Dell Latitude 3320 13\"']     1\n",
      "['MacBook Air']                1\n",
      "Name: count, dtype: int64\n"
     ]
    }
   ],
   "source": [
    "print(laptop_purchases['vendor'].value_counts())\n",
    "print(laptop_purchases['item'].value_counts())"
   ]
  },
  {
   "cell_type": "code",
   "execution_count": 5,
   "metadata": {},
   "outputs": [
    {
     "name": "stderr",
     "output_type": "stream",
     "text": [
      "/var/folders/03/5k6rd0jn061dfd_vr08xcwd80000gp/T/ipykernel_2887/160300130.py:1: SettingWithCopyWarning: \n",
      "A value is trying to be set on a copy of a slice from a DataFrame.\n",
      "Try using .loc[row_indexer,col_indexer] = value instead\n",
      "\n",
      "See the caveats in the documentation: https://pandas.pydata.org/pandas-docs/stable/user_guide/indexing.html#returning-a-view-versus-a-copy\n",
      "  laptop_assets['asset_index'] = laptop_assets['vendor_name'] + '_' + laptop_assets['product_name'] + '_' + laptop_assets['created_at'].astype(str)\n"
     ]
    }
   ],
   "source": [
    "laptop_assets['asset_index'] = laptop_assets['vendor_name'] + '_' + laptop_assets['product_name'] + '_' + laptop_assets['created_at'].astype(str)"
   ]
  },
  {
   "cell_type": "code",
   "execution_count": 6,
   "metadata": {},
   "outputs": [
    {
     "name": "stderr",
     "output_type": "stream",
     "text": [
      "/var/folders/03/5k6rd0jn061dfd_vr08xcwd80000gp/T/ipykernel_2887/2132195400.py:1: SettingWithCopyWarning: \n",
      "A value is trying to be set on a copy of a slice from a DataFrame.\n",
      "Try using .loc[row_indexer,col_indexer] = value instead\n",
      "\n",
      "See the caveats in the documentation: https://pandas.pydata.org/pandas-docs/stable/user_guide/indexing.html#returning-a-view-versus-a-copy\n",
      "  laptop_purchases['purchase_index'] = laptop_purchases['vendor'] + '_' + laptop_purchases['item'].fillna('') + '_' + laptop_purchases['date'].astype(str)\n"
     ]
    }
   ],
   "source": [
    "laptop_purchases['purchase_index'] = laptop_purchases['vendor'] + '_' + laptop_purchases['item'].fillna('') + '_' + laptop_purchases['date'].astype(str)"
   ]
  }
 ],
 "metadata": {
  "kernelspec": {
   "display_name": ".venv",
   "language": "python",
   "name": "python3"
  },
  "language_info": {
   "codemirror_mode": {
    "name": "ipython",
    "version": 3
   },
   "file_extension": ".py",
   "mimetype": "text/x-python",
   "name": "python",
   "nbconvert_exporter": "python",
   "pygments_lexer": "ipython3",
   "version": "3.11.10"
  }
 },
 "nbformat": 4,
 "nbformat_minor": 2
}
